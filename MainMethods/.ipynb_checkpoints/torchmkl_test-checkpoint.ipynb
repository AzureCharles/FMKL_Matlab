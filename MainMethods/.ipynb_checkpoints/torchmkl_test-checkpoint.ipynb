{
 "cells": [
  {
   "cell_type": "code",
   "execution_count": null,
   "id": "29445e28",
   "metadata": {},
   "outputs": [],
   "source": [
    "# disable the proxy\n",
    "!conda install -c conda-forge skorch"
   ]
  },
  {
   "cell_type": "code",
   "execution_count": 1,
   "id": "1f046c91",
   "metadata": {},
   "outputs": [
    {
     "ename": "OSError",
     "evalue": "[WinError 126] 找不到指定的模块。 Error loading \"D:\\Anaconda\\lib\\site-packages\\torch\\lib\\caffe2_nvrtc.dll\" or one of its dependencies.",
     "output_type": "error",
     "traceback": [
      "\u001b[1;31m---------------------------------------------------------------------------\u001b[0m",
      "\u001b[1;31mOSError\u001b[0m                                   Traceback (most recent call last)",
      "\u001b[1;32m~\\AppData\\Local\\Temp/ipykernel_14448/3655820264.py\u001b[0m in \u001b[0;36m<module>\u001b[1;34m\u001b[0m\n\u001b[0;32m      1\u001b[0m \u001b[1;32mimport\u001b[0m \u001b[0mnumpy\u001b[0m \u001b[1;32mas\u001b[0m \u001b[0mnp\u001b[0m\u001b[1;33m\u001b[0m\u001b[1;33m\u001b[0m\u001b[0m\n\u001b[0;32m      2\u001b[0m \u001b[1;32mfrom\u001b[0m \u001b[0msklearn\u001b[0m\u001b[1;33m.\u001b[0m\u001b[0mdatasets\u001b[0m \u001b[1;32mimport\u001b[0m \u001b[0mmake_classification\u001b[0m\u001b[1;33m\u001b[0m\u001b[1;33m\u001b[0m\u001b[0m\n\u001b[1;32m----> 3\u001b[1;33m \u001b[1;32mfrom\u001b[0m \u001b[0mtorch\u001b[0m \u001b[1;32mimport\u001b[0m \u001b[0mnn\u001b[0m\u001b[1;33m\u001b[0m\u001b[1;33m\u001b[0m\u001b[0m\n\u001b[0m\u001b[0;32m      4\u001b[0m \u001b[1;32mfrom\u001b[0m \u001b[0mskorch\u001b[0m \u001b[1;32mimport\u001b[0m \u001b[0mNeuralNetClassifier\u001b[0m\u001b[1;33m\u001b[0m\u001b[1;33m\u001b[0m\u001b[0m\n\u001b[0;32m      5\u001b[0m \u001b[1;33m\u001b[0m\u001b[0m\n",
      "\u001b[1;32mD:\\Anaconda\\lib\\site-packages\\torch\\__init__.py\u001b[0m in \u001b[0;36m<module>\u001b[1;34m\u001b[0m\n\u001b[0;32m    131\u001b[0m                 \u001b[0merr\u001b[0m \u001b[1;33m=\u001b[0m \u001b[0mctypes\u001b[0m\u001b[1;33m.\u001b[0m\u001b[0mWinError\u001b[0m\u001b[1;33m(\u001b[0m\u001b[0mctypes\u001b[0m\u001b[1;33m.\u001b[0m\u001b[0mget_last_error\u001b[0m\u001b[1;33m(\u001b[0m\u001b[1;33m)\u001b[0m\u001b[1;33m)\u001b[0m\u001b[1;33m\u001b[0m\u001b[1;33m\u001b[0m\u001b[0m\n\u001b[0;32m    132\u001b[0m                 \u001b[0merr\u001b[0m\u001b[1;33m.\u001b[0m\u001b[0mstrerror\u001b[0m \u001b[1;33m+=\u001b[0m \u001b[1;34mf' Error loading \"{dll}\" or one of its dependencies.'\u001b[0m\u001b[1;33m\u001b[0m\u001b[1;33m\u001b[0m\u001b[0m\n\u001b[1;32m--> 133\u001b[1;33m                 \u001b[1;32mraise\u001b[0m \u001b[0merr\u001b[0m\u001b[1;33m\u001b[0m\u001b[1;33m\u001b[0m\u001b[0m\n\u001b[0m\u001b[0;32m    134\u001b[0m \u001b[1;33m\u001b[0m\u001b[0m\n\u001b[0;32m    135\u001b[0m     \u001b[0mkernel32\u001b[0m\u001b[1;33m.\u001b[0m\u001b[0mSetErrorMode\u001b[0m\u001b[1;33m(\u001b[0m\u001b[0mprev_error_mode\u001b[0m\u001b[1;33m)\u001b[0m\u001b[1;33m\u001b[0m\u001b[1;33m\u001b[0m\u001b[0m\n",
      "\u001b[1;31mOSError\u001b[0m: [WinError 126] 找不到指定的模块。 Error loading \"D:\\Anaconda\\lib\\site-packages\\torch\\lib\\caffe2_nvrtc.dll\" or one of its dependencies."
     ]
    }
   ],
   "source": [
    "import numpy as np\n",
    "from sklearn.datasets import make_classification\n",
    "from torch import nn\n",
    "from skorch import NeuralNetClassifier\n",
    "\n",
    "X, y = make_classification(1000, 20, n_informative=10, random_state=0)\n",
    "X = X.astype(np.float32)\n",
    "y = y.astype(np.int64)\n",
    "\n",
    "class MyModule(nn.Module):\n",
    "    def __init__(self, num_units=10, nonlin=nn.ReLU()):\n",
    "        super().__init__()\n",
    "\n",
    "        self.dense0 = nn.Linear(20, num_units)\n",
    "        self.nonlin = nonlin\n",
    "        self.dropout = nn.Dropout(0.5)\n",
    "        self.dense1 = nn.Linear(num_units, num_units)\n",
    "        self.output = nn.Linear(num_units, 2)\n",
    "        self.softmax = nn.Softmax(dim=-1)\n",
    "\n",
    "    def forward(self, X, **kwargs):\n",
    "        X = self.nonlin(self.dense0(X))\n",
    "        X = self.dropout(X)\n",
    "        X = self.nonlin(self.dense1(X))\n",
    "        X = self.softmax(self.output(X))\n",
    "        return X\n",
    "\n"
   ]
  },
  {
   "cell_type": "code",
   "execution_count": null,
   "id": "41805d0e",
   "metadata": {},
   "outputs": [],
   "source": [
    "net = NeuralNetClassifier(\n",
    "    MyModule,\n",
    "    max_epochs=10,\n",
    "    lr=0.1,\n",
    "    # Shuffle training data on each epoch\n",
    "    iterator_train__shuffle=True,\n",
    ")\n",
    "\n",
    "net.fit(X, y)\n",
    "y_proba = net.predict_proba(X)\n",
    "print(y_proba)"
   ]
  },
  {
   "cell_type": "code",
   "execution_count": 5,
   "id": "58885c07",
   "metadata": {},
   "outputs": [
    {
     "data": {
      "text/plain": [
       "array([[1. , 3. ],\n",
       "       [1. , 0.5]])"
      ]
     },
     "execution_count": 5,
     "metadata": {},
     "output_type": "execute_result"
    }
   ],
   "source": [
    "import numpy as np\n",
    "K = np.array([[1,6],[2,2]]) # 用你的矩阵数据替换\n",
    "D = np.diag(K) # 提取K的对角线元素\n",
    "M = D * D[:, None] # 将D与它的转置相乘，得到一个对角矩阵\n",
    "K / M # 用M的每个元素去除K的每一列"
   ]
  },
  {
   "cell_type": "code",
   "execution_count": 13,
   "id": "9ff0a8c3",
   "metadata": {},
   "outputs": [
    {
     "ename": "OSError",
     "evalue": "[WinError 126] 找不到指定的模块。 Error loading \"D:\\Anaconda\\lib\\site-packages\\torch\\lib\\caffe2_nvrtc.dll\" or one of its dependencies.",
     "output_type": "error",
     "traceback": [
      "\u001b[1;31m---------------------------------------------------------------------------\u001b[0m",
      "\u001b[1;31mOSError\u001b[0m                                   Traceback (most recent call last)",
      "\u001b[1;32m~\\AppData\\Local\\Temp/ipykernel_17340/3427968406.py\u001b[0m in \u001b[0;36m<module>\u001b[1;34m\u001b[0m\n\u001b[1;32m----> 1\u001b[1;33m \u001b[1;32mimport\u001b[0m \u001b[0mtorch\u001b[0m\u001b[1;33m\u001b[0m\u001b[1;33m\u001b[0m\u001b[0m\n\u001b[0m\u001b[0;32m      2\u001b[0m \u001b[1;32mdef\u001b[0m \u001b[0mrbf_kernel\u001b[0m\u001b[1;33m(\u001b[0m\u001b[0mtensor\u001b[0m\u001b[1;33m,\u001b[0m\u001b[0msig\u001b[0m\u001b[1;33m=\u001b[0m\u001b[1;36m1\u001b[0m\u001b[1;33m)\u001b[0m\u001b[1;33m:\u001b[0m\u001b[1;33m\u001b[0m\u001b[1;33m\u001b[0m\u001b[0m\n\u001b[0;32m      3\u001b[0m     \u001b[0mn\u001b[0m\u001b[1;33m=\u001b[0m\u001b[0mtensor\u001b[0m\u001b[1;33m.\u001b[0m\u001b[0mshape\u001b[0m\u001b[1;33m[\u001b[0m\u001b[1;36m1\u001b[0m\u001b[1;33m]\u001b[0m\u001b[1;33m\u001b[0m\u001b[1;33m\u001b[0m\u001b[0m\n\u001b[0;32m      4\u001b[0m     \u001b[0mK\u001b[0m\u001b[1;33m=\u001b[0m\u001b[0mtensor\u001b[0m\u001b[1;33m/\u001b[0m\u001b[0msig\u001b[0m\u001b[1;33m^\u001b[0m\u001b[1;36m2\u001b[0m\u001b[1;33m\u001b[0m\u001b[1;33m\u001b[0m\u001b[0m\n\u001b[0;32m      5\u001b[0m     \u001b[0md\u001b[0m\u001b[1;33m=\u001b[0m\u001b[0mtorch\u001b[0m\u001b[1;33m.\u001b[0m\u001b[0mdiag\u001b[0m\u001b[1;33m(\u001b[0m\u001b[0mK\u001b[0m\u001b[1;33m)\u001b[0m\u001b[1;33m\u001b[0m\u001b[1;33m\u001b[0m\u001b[0m\n",
      "\u001b[1;32mD:\\Anaconda\\lib\\site-packages\\torch\\__init__.py\u001b[0m in \u001b[0;36m<module>\u001b[1;34m\u001b[0m\n\u001b[0;32m    131\u001b[0m                 \u001b[0merr\u001b[0m \u001b[1;33m=\u001b[0m \u001b[0mctypes\u001b[0m\u001b[1;33m.\u001b[0m\u001b[0mWinError\u001b[0m\u001b[1;33m(\u001b[0m\u001b[0mctypes\u001b[0m\u001b[1;33m.\u001b[0m\u001b[0mget_last_error\u001b[0m\u001b[1;33m(\u001b[0m\u001b[1;33m)\u001b[0m\u001b[1;33m)\u001b[0m\u001b[1;33m\u001b[0m\u001b[1;33m\u001b[0m\u001b[0m\n\u001b[0;32m    132\u001b[0m                 \u001b[0merr\u001b[0m\u001b[1;33m.\u001b[0m\u001b[0mstrerror\u001b[0m \u001b[1;33m+=\u001b[0m \u001b[1;34mf' Error loading \"{dll}\" or one of its dependencies.'\u001b[0m\u001b[1;33m\u001b[0m\u001b[1;33m\u001b[0m\u001b[0m\n\u001b[1;32m--> 133\u001b[1;33m                 \u001b[1;32mraise\u001b[0m \u001b[0merr\u001b[0m\u001b[1;33m\u001b[0m\u001b[1;33m\u001b[0m\u001b[0m\n\u001b[0m\u001b[0;32m    134\u001b[0m \u001b[1;33m\u001b[0m\u001b[0m\n\u001b[0;32m    135\u001b[0m     \u001b[0mkernel32\u001b[0m\u001b[1;33m.\u001b[0m\u001b[0mSetErrorMode\u001b[0m\u001b[1;33m(\u001b[0m\u001b[0mprev_error_mode\u001b[0m\u001b[1;33m)\u001b[0m\u001b[1;33m\u001b[0m\u001b[1;33m\u001b[0m\u001b[0m\n",
      "\u001b[1;31mOSError\u001b[0m: [WinError 126] 找不到指定的模块。 Error loading \"D:\\Anaconda\\lib\\site-packages\\torch\\lib\\caffe2_nvrtc.dll\" or one of its dependencies."
     ]
    }
   ],
   "source": [
    "import torch\n",
    "def rbf_kernel(tensor,sig=1):\n",
    "    n=tensor.shape[1]\n",
    "    K=tensor/sig^2\n",
    "    d=torch.diag(K)\n",
    "    K=K-torch.ones((n, 1))*d.t()/2-d*torch.ones((1, n))/2\n",
    "    print(K)\n",
    "    return torch.exp(K)\n",
    "rbf_kernel(torch.tensor([[1.0,3.0],[2.0,4.0]]),sig=1)"
   ]
  },
  {
   "cell_type": "markdown",
   "id": "f218d193",
   "metadata": {},
   "source": [
    "将每个元素减去对应点到自己的距离的一半，是一种对RBF核函数的变形，它可以使得核函数的值在[0, 1]之间，而不是在[0, +∞)之间。这样做的目的是为了使得核函数的值更加稳定，避免数值溢出或者欠拟合的问题¹²。RBF核函数是一种常用的核函数，它可以用来度量两个样本之间的相似度，它的定义是：\n",
    "\n",
    "$$k(x, x') = \\exp(-\\gamma \\|x - x'\\|^2)$$\n",
    "\n",
    "其中，$\\gamma$是一个超参数，控制了核函数的宽度。如果将每个元素减去对应点到自己的距离的一半，那么核函数就变成了：\n",
    "\n",
    "$$k(x, x') = \\exp(-\\gamma (\\|x - x'\\|^2 - \\frac{1}{2}(\\|x\\|^2 + \\|x'\\|^2)))$$\n",
    "\n",
    "这样，当$x = x'$时，核函数的值为1；当$x$和$x'$越来越远时，核函数的值趋近于0。\n",
    "\n",
    "源: 与必应的对话， 2023/4/21\n",
    "(1) Radial basis function kernel - Wikipedia. https://en.wikipedia.org/wiki/Radial_basis_function_kernel.\n",
    "(2) sklearn.gaussian_process.kernels .RBF - scikit-learn. https://scikit-learn.org/stable/modules/generated/sklearn.gaussian_process.kernels.RBF.html.\n",
    "(3) 核函数&径向基核函数 (Radial Basis Function)--RBF - CSDN博客. https://blog.csdn.net/huang1024rui/article/details/51510611."
   ]
  },
  {
   "cell_type": "markdown",
   "id": "6695fb96",
   "metadata": {},
   "source": [
    "sklearn中rbf，sigmoid，poly kernel是一些常用的核函数，它们可以用来在支持向量机或者其他核方法中实现非线性的映射。它们的用法是：\n",
    "\n",
    "- rbf核函数是径向基核函数，也叫高斯核函数，它的形式是$k(x, x') = \\exp(-\\gamma \\|x - x'\\|^2)$，其中$\\gamma$是一个超参数，控制了核函数的宽度。它可以用来度量两个样本之间的相似度，它的值在[0, 1]之间。要使用rbf核函数，可以在sklearn中设置kernel='rbf'，并指定gamma的值¹²。\n",
    "- sigmoid核函数是一个类似于sigmoid激活函数的核函数，它的形式是$k(x, x') = \\tanh(\\gamma x^T x' + r)$，其中$\\gamma$和$r$是两个超参数，控制了核函数的形状。它可以用来实现神经网络中的多层感知机模型。要使用sigmoid核函数，可以在sklearn中设置kernel='sigmoid'，并指定gamma和coef0（对应于r）的值¹³。\n",
    "- poly核函数是多项式核函数，它的形式是$k(x, x') = (\\gamma x^T x' + r)^d$，其中$\\gamma$，$r$和$d$是三个超参数，分别控制了核函数的缩放、偏移和次数。它可以用来实现多项式特征的映射。要使用poly核函数，可以在sklearn中设置kernel='poly'，并指定gamma，coef0（对应于r）和degree（对应于d）的值¹ 。\n",
    "\n",
    "源: 与必应的对话， 2023/4/21\n",
    "(1) sklearn.kernel_ridge - scikit-learn 1.1.1 documentation. https://scikit-learn.org/stable/modules/generated/sklearn.kernel_ridge.KernelRidge.html.\n",
    "(2) sklearn.gaussian_process.kernels .RBF - scikit-learn. https://scikit-learn.org/stable/modules/generated/sklearn.gaussian_process.kernels.RBF.html.\n",
    "(3) sklearn.svm.SVC — scikit-learn 1.2.2 documentation. https://scikit-learn.org/stable/modules/generated/sklearn.svm.SVC.html."
   ]
  }
 ],
 "metadata": {
  "kernelspec": {
   "display_name": "Python 3 (ipykernel)",
   "language": "python",
   "name": "python3"
  },
  "language_info": {
   "codemirror_mode": {
    "name": "ipython",
    "version": 3
   },
   "file_extension": ".py",
   "mimetype": "text/x-python",
   "name": "python",
   "nbconvert_exporter": "python",
   "pygments_lexer": "ipython3",
   "version": "3.9.7"
  }
 },
 "nbformat": 4,
 "nbformat_minor": 5
}
